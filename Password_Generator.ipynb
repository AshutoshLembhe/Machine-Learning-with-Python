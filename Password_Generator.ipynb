{
  "nbformat": 4,
  "nbformat_minor": 0,
  "metadata": {
    "colab": {
      "name": "Password Generator.ipynb",
      "provenance": [],
      "collapsed_sections": [],
      "authorship_tag": "ABX9TyODlbehETIMKXnkkFEwD+BE",
      "include_colab_link": true
    },
    "kernelspec": {
      "name": "python3",
      "display_name": "Python 3"
    }
  },
  "cells": [
    {
      "cell_type": "markdown",
      "metadata": {
        "id": "view-in-github",
        "colab_type": "text"
      },
      "source": [
        "<a href=\"https://colab.research.google.com/github/AshutoshLembhe/Python-and-Machine-Learning-Projects/blob/master/Password_Generator.ipynb\" target=\"_parent\"><img src=\"https://colab.research.google.com/assets/colab-badge.svg\" alt=\"Open In Colab\"/></a>"
      ]
    },
    {
      "cell_type": "code",
      "metadata": {
        "id": "UCwaU6zlj9CY",
        "colab_type": "code",
        "colab": {
          "base_uri": "https://localhost:8080/",
          "height": 67
        },
        "outputId": "14aa4cbf-1396-484b-c65d-72a02e394c8b"
      },
      "source": [
        "import string\n",
        "import random\n",
        "\n",
        "def generator():\n",
        "  s1=string.ascii_uppercase\n",
        "  s2=string.ascii_lowercase\n",
        "  s3=string.digits\n",
        "  s4=string.punctuation\n",
        "  passlen=int(input(\"enter the password length\\n\"))\n",
        "  s=[]\n",
        "\n",
        "  s.extend(list(s1))\n",
        "  s.extend(list(s2))\n",
        "  s.extend(list(s3))\n",
        "  s.extend(list(s4))\n",
        "  random.shuffle(s)\n",
        "  pass1=(\"\".join(s[0:passlen]))\n",
        "  print(pass1)\n",
        "generator()"
      ],
      "execution_count": 33,
      "outputs": [
        {
          "output_type": "stream",
          "text": [
            "enter the password length\n",
            "10\n",
            "k6_M=!sWqX\n"
          ],
          "name": "stdout"
        }
      ]
    },
    {
      "cell_type": "code",
      "metadata": {
        "id": "XQvR2em1kXGg",
        "colab_type": "code",
        "colab": {}
      },
      "source": [
        ""
      ],
      "execution_count": null,
      "outputs": []
    }
  ]
}