{
  "nbformat": 4,
  "nbformat_minor": 0,
  "metadata": {
    "colab": {
      "name": "Email Sender.ipynb",
      "provenance": [],
      "collapsed_sections": [],
      "authorship_tag": "ABX9TyNI81xPD0dNHIeGCo7ZwbKG",
      "include_colab_link": true
    },
    "kernelspec": {
      "name": "python3",
      "display_name": "Python 3"
    }
  },
  "cells": [
    {
      "cell_type": "markdown",
      "metadata": {
        "id": "view-in-github",
        "colab_type": "text"
      },
      "source": [
        "<a href=\"https://colab.research.google.com/github/AshutoshLembhe/Python-and-Machine-Learning-Projects/blob/master/Email_Sender.ipynb\" target=\"_parent\"><img src=\"https://colab.research.google.com/assets/colab-badge.svg\" alt=\"Open In Colab\"/></a>"
      ]
    },
    {
      "cell_type": "code",
      "metadata": {
        "id": "Dih0cT0tmu3E",
        "colab_type": "code",
        "colab": {}
      },
      "source": [
        "import smtplib\n",
        "to=input(\"enter the email of recipent:\\n\")\n",
        "content = input(\"enter the content you want to enter:\\n\")\n",
        "\n",
        "def sendemail(to,content):\n",
        "    server=smtplib.SMTP('smtp.gmail.com', 587)\n",
        "    server.ehlo()\n",
        "    server.starttls()\n",
        "    server.login('Your Email id','password')\n",
        "    server.sendmail('ashutoshlembhe50@gmail.com',to,content)\n",
        "    server.close()\n",
        "sendemail(to,content)"
      ],
      "execution_count": null,
      "outputs": []
    },
    {
      "cell_type": "code",
      "metadata": {
        "id": "Np38dP4RnOHB",
        "colab_type": "code",
        "colab": {}
      },
      "source": [
        ""
      ],
      "execution_count": null,
      "outputs": []
    }
  ]
}